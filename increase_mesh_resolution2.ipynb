{
 "cells": [
  {
   "cell_type": "code",
   "execution_count": 19,
   "metadata": {},
   "outputs": [],
   "source": [
    "import trimesh\n",
    "import scipy.io as sio\n",
    "\n",
    "# Load MATLAB file\n",
    "matlab_data = sio.loadmat('mesh.mat')\n",
    "vertices = matlab_data['vertices']\n",
    "faces = matlab_data['faces']\n",
    "\n",
    "# Create a trimesh object\n",
    "mesh = trimesh.Trimesh(vertices=vertices, faces=faces-1)\n",
    "\n",
    "# Refine the mesh\n",
    "refined_mesh = mesh.subdivide()  # Refine the mesh once\n",
    "refined_mesh = refined_mesh.subdivide()  # Refine the mesh once\n",
    "refined_mesh = trimesh.smoothing.filter_humphrey(refined_mesh, alpha=0.1, beta=0.5, iterations=10, laplacian_operator=None)\n",
    "refined_mesh = refined_mesh.subdivide()  # Refine the mesh once\n",
    "refined_mesh = trimesh.smoothing.filter_humphrey(refined_mesh, alpha=0.1, beta=0.5, iterations=10, laplacian_operator=None)\n",
    "refined_mesh = refined_mesh.subdivide()  # Refine the mesh once\n",
    "refined_mesh = trimesh.smoothing.filter_humphrey(refined_mesh, alpha=0.1, beta=0.5, iterations=10, laplacian_operator=None)\n",
    "# trimesh.smoothing.filter_laplacian(mesh, lamb=0.5, iterations=10, implicit_time_integration=False, volume_constraint=True, laplacian_operator=None)\n",
    "# smooth the mesh with a 3x3x3 kernel\n",
    "# refined_mesh = refined_mesh.smoothed()\n",
    "# refined_mesh = refined_mesh.subdivide()  # Refine the mesh once\n",
    "# refined_mesh = refined_mesh.smoothed()\n",
    "\n",
    "# Extract the refined vertices and faces\n",
    "refined_vertices = refined_mesh.vertices\n",
    "refined_faces = refined_mesh.faces\n",
    "\n",
    "# Save the refined mesh to a MATLAB file\n",
    "sio.savemat('refined_mesh.mat', {'vertices': refined_vertices, 'faces': refined_faces+1})"
   ]
  }
 ],
 "metadata": {
  "kernelspec": {
   "display_name": "p311env",
   "language": "python",
   "name": "python3"
  },
  "language_info": {
   "codemirror_mode": {
    "name": "ipython",
    "version": 3
   },
   "file_extension": ".py",
   "mimetype": "text/x-python",
   "name": "python",
   "nbconvert_exporter": "python",
   "pygments_lexer": "ipython3",
   "version": "3.11.0"
  }
 },
 "nbformat": 4,
 "nbformat_minor": 2
}
