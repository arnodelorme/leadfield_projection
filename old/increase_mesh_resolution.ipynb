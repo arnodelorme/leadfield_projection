{
 "cells": [
  {
   "cell_type": "code",
   "execution_count": null,
   "metadata": {},
   "outputs": [],
   "source": [
    "import scipy.io\n",
    "import trimesh\n",
    "\n",
    "# Load mesh from MATLAB file\n",
    "matlab_file = 'mesh.mat'  # Replace with your MATLAB file path\n",
    "data = scipy.io.loadmat(matlab_file)\n",
    "vertices = data['vertices']\n",
    "faces = data['faces']\n",
    "\n",
    "# Note: If your mesh needs refinement, consider implementing a custom refinement algorithm\n",
    "# or using a library that supports mesh refinement, as trimesh does not directly offer this.\n",
    "\n",
    "# Smooth the mesh (optional, using trimesh for demonstration)\n",
    "mesh = trimesh.Trimesh(vertices=vertices, faces=faces-1)  # Adjust for 0-based indexing\n",
    "smoothed_mesh = mesh.smoothed()\n",
    "smoothed_vertices = smoothed_mesh.vertices\n",
    "smoothed_faces = smoothed_mesh.faces + 1  # Convert back to 1-based indexing for MATLAB\n",
    "\n",
    "# Save the smoothed mesh to an OBJ file\n",
    "output_file = 'smoothed_mesh.mat'\n",
    "scipy.io.savemat(output_file, {'vertices': smoothed_vertices, 'faces': smoothed_faces})\n"
   ]
  },
  {
   "cell_type": "code",
   "execution_count": null,
   "metadata": {},
   "outputs": [],
   "source": []
  }
 ],
 "metadata": {
  "language_info": {
   "name": "python"
  }
 },
 "nbformat": 4,
 "nbformat_minor": 2
}
